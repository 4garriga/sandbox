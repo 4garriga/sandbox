{
 "cells": [
  {
   "cell_type": "code",
   "execution_count": 3,
   "metadata": {},
   "outputs": [
    {
     "ename": "SystemExit",
     "evalue": "0",
     "output_type": "error",
     "traceback": [
      "An exception has occurred, use %tb to see the full traceback.\n",
      "\u001b[0;31mSystemExit\u001b[0m\u001b[0;31m:\u001b[0m 0\n"
     ]
    },
    {
     "name": "stderr",
     "output_type": "stream",
     "text": [
      "/Users/alexg/py-venv/lib/python3.8/site-packages/IPython/core/interactiveshell.py:3327: UserWarning: To exit: use 'exit', 'quit', or Ctrl-D.\n",
      "  warn(\"To exit: use 'exit', 'quit', or Ctrl-D.\", stacklevel=1)\n"
     ]
    }
   ],
   "source": [
    "from PyQt5.QtWidgets import QApplication, QMainWindow, QWidget, QLabel, QTableWidget, QTableWidgetItem, QSizePolicy\n",
    "from PyQt5.Qt import QVBoxLayout, QHBoxLayout\n",
    "from PyQt5.QtCore import Qt\n",
    "from PyQt5.QtCore import QSize\n",
    "import numpy as np\n",
    "import random\n",
    "import sys\n",
    "\n",
    "class Window(QMainWindow):\n",
    "    def __init__(self):\n",
    "        super().__init__()\n",
    "        \n",
    "        self.widget = QWidget()\n",
    "        self.layout = QVBoxLayout()\n",
    "        self.layout.setAlignment(Qt.AlignHCenter)\n",
    "        \n",
    "        label_layout = QHBoxLayout()\n",
    "        label = QLabel('+Loading')\n",
    "        label_layout.addWidget(label)\n",
    "        label.setSizePolicy(QSizePolicy.Fixed, QSizePolicy.Expanding)\n",
    "#         label.setStyleSheet('QLabel { background-color: grey; }')\n",
    "        self.layout.addLayout(label_layout)\n",
    "        \n",
    "        self.build_table()\n",
    "        self.layout.addStretch(2)\n",
    "        self.widget.setLayout(self.layout)\n",
    "        self.setCentralWidget(self.widget)\n",
    "        self.show()\n",
    "        \n",
    "    def build_table(self):\n",
    "        data = np.array([random.random() for _ in range(10)])\n",
    "        data.shape = (2, 5)\n",
    "        table = QTableWidget(3, 5)\n",
    "        table.setVerticalHeaderLabels(['Byp', 'Brg', ''])\n",
    "        table.setHorizontalHeaderLabels([f'Col {i}' for i in range(5)])\n",
    "        for row in range(2):\n",
    "            for col in range(5):\n",
    "                table.setItem(row, col, QTableWidgetItem(f'{data[row, col]}'))\n",
    "        table.setItem(2, 4, QTableWidgetItem('KtS = 79834'))\n",
    "        table.resizeColumnsToContents()\n",
    "        table.resizeRowsToContents()\n",
    "        \n",
    "        w = table.verticalHeader().width()*2\n",
    "        h = table.horizontalHeader().height() + 4\n",
    "        for i in range(table.columnCount()):\n",
    "            w += table.columnWidth(i)\n",
    "        for i in range(table.rowCount()):\n",
    "            h += table.rowHeight(i)\n",
    "        table.setMinimumSize(QSize(w, h))\n",
    "        table.setMaximumSize(QSize(w, h))\n",
    "        table.setVerticalScrollBarPolicy(Qt.ScrollBarAlwaysOff)\n",
    "        table.setHorizontalScrollBarPolicy(Qt.ScrollBarAlwaysOff)\n",
    "        \n",
    "        self.layout.addWidget(table)\n",
    "        \n",
    "app = QApplication.instance()\n",
    "if app is None:\n",
    "    app = QApplication([])\n",
    "else:\n",
    "    print('QApplication instance already exists: %s' % str(app))\n",
    "win = Window()\n",
    "sys.exit(app.exec_())  \n",
    "        "
   ]
  },
  {
   "cell_type": "code",
   "execution_count": 5,
   "metadata": {},
   "outputs": [
    {
     "name": "stdout",
     "output_type": "stream",
     "text": [
      "Warning: QApplication was created before pyqtgraph was imported; there may be problems (to avoid bugs, call QApplication.setGraphicsSystem(\"raster\") before the QApplication is created).\n"
     ]
    },
    {
     "ename": "SystemExit",
     "evalue": "0",
     "output_type": "error",
     "traceback": [
      "An exception has occurred, use %tb to see the full traceback.\n",
      "\u001b[0;31mSystemExit\u001b[0m\u001b[0;31m:\u001b[0m 0\n"
     ]
    }
   ],
   "source": [
    "import pyqtgraph as pg\n",
    "from PyQt5.QtWidgets import QApplication, QMainWindow, \\\n",
    "    QHBoxLayout, QWidget, QSizePolicy\n",
    "from PyQt5.QtCore import Qt\n",
    "import numpy as np\n",
    "import sys\n",
    "\n",
    "class Window(QMainWindow):\n",
    "    def __init__(self):\n",
    "        super().__init__()\n",
    "        self.widget = QWidget() \n",
    "        self.layout = QHBoxLayout()\n",
    "        self.build_plots()\n",
    "        self.widget.setLayout(self.layout)\n",
    "        self.setCentralWidget(self.widget)\n",
    "        self.show()\n",
    "        \n",
    "    def build_plots(self):\n",
    "        data = [\n",
    "            np.array([x**2 for x in range(40)]),\n",
    "            np.array([x**3 for x in range(40)])\n",
    "        ]\n",
    "        canvas = pg.GraphicsLayoutWidget()\n",
    "        plt = canvas.addPlot(\n",
    "            title='Plot Title',\n",
    "            labels={'left': ('left'),\n",
    "                   'bottom': ('bottom')},\n",
    "            name='plt',\n",
    "            enableMenu=False\n",
    "        )\n",
    "        plt.setMouseEnabled(False, False)\n",
    "        lgnd_view = canvas.addViewBox(\n",
    "            enableMenu=False,\n",
    "            enableMouse=False,\n",
    "            name='lgnd_view')\n",
    "        lgnd_view.setMouseEnabled(False, False)\n",
    "        lgnd = pg.LegendItem(offset=(1, 1))\n",
    "        lgnd.setParentItem(lgnd_view)\n",
    "        lgnd.setAcceptedMouseButtons(Qt.MouseButton(0))\n",
    "        for y in data:\n",
    "            pi = plt.plot(y, pen={'color': 'y', 'width': 3})\n",
    "            lgnd.addItem(pi, 'data')\n",
    "        lgnd_view.setMinimumSize(lgnd.width(), lgnd.height())\n",
    "        lgnd_view.setMaximumSize(lgnd.width(), lgnd.height())\n",
    "        self.layout.addWidget(canvas)\n",
    "#         for method in dir(lgnd_view):\n",
    "#             if any([x in method.lower() for x in ('size', 'background', 'rect')]):\n",
    "#                 print(method)\n",
    "#         print(dir(lgnd))\n",
    "        \n",
    "app = QApplication.instance()\n",
    "if app is None:\n",
    "    app = QApplication([])\n",
    "win = Window()\n",
    "sys.exit(app.exec_())\n",
    "        "
   ]
  },
  {
   "cell_type": "code",
   "execution_count": 2,
   "metadata": {},
   "outputs": [
    {
     "ename": "SyntaxError",
     "evalue": "invalid syntax (<ipython-input-2-842c6965bc3a>, line 1)",
     "output_type": "error",
     "traceback": [
      "\u001b[0;36m  File \u001b[0;32m\"<ipython-input-2-842c6965bc3a>\"\u001b[0;36m, line \u001b[0;32m1\u001b[0m\n\u001b[0;31m    cd ..\u001b[0m\n\u001b[0m        ^\u001b[0m\n\u001b[0;31mSyntaxError\u001b[0m\u001b[0;31m:\u001b[0m invalid syntax\n"
     ]
    }
   ],
   "source": [
    "cd ..\n",
    "pwd"
   ]
  },
  {
   "cell_type": "code",
   "execution_count": null,
   "metadata": {},
   "outputs": [],
   "source": []
  }
 ],
 "metadata": {
  "kernelspec": {
   "display_name": "Python 3",
   "language": "python",
   "name": "python3"
  },
  "language_info": {
   "codemirror_mode": {
    "name": "ipython",
    "version": 3
   },
   "file_extension": ".py",
   "mimetype": "text/x-python",
   "name": "python",
   "nbconvert_exporter": "python",
   "pygments_lexer": "ipython3",
   "version": "3.8.1"
  }
 },
 "nbformat": 4,
 "nbformat_minor": 4
}
