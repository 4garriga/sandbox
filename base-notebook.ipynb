{
 "cells": [
  {
   "cell_type": "code",
   "execution_count": 1,
   "metadata": {},
   "outputs": [
    {
     "data": {
      "text/html": [
       "\n",
       "<script src='//code.jquery.com/jquery-3.3.1.min.js'></script>\n",
       "<script>\n",
       "code_show=true; \n",
       "function code_toggle() {\n",
       " if (code_show){\n",
       " $('div.input').hide();\n",
       " $('div .jp-CodeCell .jp-Cell-inputWrapper').hide();\n",
       " } else {\n",
       " $('div.input').show();\n",
       " $('div .jp-CodeCell .jp-Cell-inputWrapper').show();\n",
       " }\n",
       " code_show = !code_show\n",
       "}\n",
       "$( document ).ready(code_toggle);\n",
       "</script>\n",
       "<form action=\"javascript:code_toggle()\"><input type=\"submit\" value=\"Code on/off\"></form>"
      ],
      "text/plain": [
       "<IPython.core.display.HTML object>"
      ]
     },
     "execution_count": 1,
     "metadata": {},
     "output_type": "execute_result"
    }
   ],
   "source": [
    "from IPython.display import HTML\n",
    "\n",
    "HTML('''\n",
    "<script src='//code.jquery.com/jquery-3.3.1.min.js'></script>\n",
    "<script>\n",
    "code_show=true; \n",
    "function code_toggle() {\n",
    " if (code_show){\n",
    " $('div.input').hide();\n",
    " $('div .jp-CodeCell .jp-Cell-inputWrapper').hide();\n",
    " } else {\n",
    " $('div.input').show();\n",
    " $('div .jp-CodeCell .jp-Cell-inputWrapper').show();\n",
    " }\n",
    " code_show = !code_show\n",
    "}\n",
    "$( document ).ready(code_toggle);\n",
    "</script>\n",
    "<form action=\"javascript:code_toggle()\"><input type=\"submit\" value=\"Code on/off\"></form>''')"
   ]
  },
  {
   "cell_type": "code",
   "execution_count": 2,
   "metadata": {},
   "outputs": [
    {
     "data": {
      "text/plain": [
       "'Depencies \\nxlrd==1.2.0 to read excel'"
      ]
     },
     "execution_count": 2,
     "metadata": {},
     "output_type": "execute_result"
    }
   ],
   "source": [
    "from ipysheet import sheet, cell, row, column, cell_range\n",
    "import ipywidgets as widgets\n",
    "from IPython.display import display\n",
    "from pandas import read_pickle\n",
    "\n",
    "'''Depencies \n",
    "xlrd==1.2.0 to read excel'''"
   ]
  },
  {
   "cell_type": "code",
   "execution_count": 3,
   "metadata": {},
   "outputs": [],
   "source": [
    "# Create laminate input tab\n",
    "# Build material database\n",
    "matdb = read_pickle('matdb.pkl')\n",
    "options = [('-'.join((matid, desc)), str(th)) for matid, desc, th in matdb[['Mat ID', 'Description', 't']].values]\n",
    "\n",
    "# Build Laminate input fields\n",
    "nply = widgets.BoundedIntText(value=10, min=1, max=100, step=1)\n",
    "sym = widgets.Button(description='Symmetric')\n",
    "fill = widgets.Button(description='Fill')\n",
    "columns = 3\n",
    "laminate = sheet(rows=nply.value, columns=columns, column_headers='Angle ID t'.split())\n",
    "theta = column(0, ['' for _ in range(nply.value)])\n",
    "matl = column(1, [widgets.Dropdown(options=options) for _ in range(nply.value)])\n",
    "th = column(2, [widgets.Text() for _ in range(nply.value)])\n",
    "for m_cell, t_cell in zip(matl.value, th.value):\n",
    "    widgets.link((m_cell, 'value'), (t_cell, 'value'))\n",
    "    \n",
    "# Slots\n",
    "widgets.jslink((nply, 'value'), (laminate, 'rows'))\n",
    "def on_nply_change(value):\n",
    "    '''Update number of rows'''\n",
    "    new = value['new']\n",
    "    theta.row_end = new - 1\n",
    "    matl.row_end = new - 1\n",
    "    th.row_end = new - 1\n",
    "    \n",
    "    theta.value = [theta.value[i] if i < len(theta.value) else '' for i in range(new)]\n",
    "    matl.value = [widgets.Dropdown(\n",
    "        options=options,\n",
    "        label=matl.value[i].label) if i < len(matl.value) else widgets.Dropdown(\n",
    "        options=options) for i in range(new)]\n",
    "    th.value = [widgets.Text(\n",
    "        value=th.value[i].value) if i < len(th.value) else widgets.Text() for i in range(new)]\n",
    "    for m_cell, t_cell in zip(matl.value, th.value):\n",
    "        widgets.link((m_cell, 'value'), (t_cell, 'value'))\n",
    "\n",
    "def on_sym_click(signal):\n",
    "    '''Copy angle, material id values symmetrically'''\n",
    "    n = nply.value//2\n",
    "    if nply.value % 2:\n",
    "        theta.value = theta.value[:n] + theta.value[:n+1][::-1]\n",
    "        matl.value = matl.value[:n] + [widgets.Dropdown(\n",
    "                options=options, \n",
    "                label=m.label) for m in matl.value[:n+1][::-1]]\n",
    "    else:\n",
    "        theta.value = theta.value[:n] + theta.value[:n][::-1]\n",
    "        matl.value = matl.value[:n] + [widgets.Dropdown(\n",
    "                options=options, \n",
    "                label=m.label) for m in matl.value[:n][::-1]]\n",
    "    \n",
    "    # link material, thickness\n",
    "    for m_cell, t_cell in zip(matl.value[-n:], th.value[-n:]):\n",
    "        widgets.link((m_cell, 'value'), (t_cell, 'value'))\n",
    "\n",
    "def on_fill_click(signal):\n",
    "    '''Fill material id from top down'''\n",
    "    m = matl.value[0].label\n",
    "    for mat in matl.value:\n",
    "        mat.label = m\n",
    "        \n",
    "# Signals\n",
    "nply.observe(on_nply_change, names='value')\n",
    "sym.on_click(on_sym_click)\n",
    "fill.on_click(on_fill_click)\n",
    "\n",
    "# Layout\n",
    "top = widgets.HBox([nply, sym, fill])\n",
    "input_box = widgets.VBox([top, laminate])\n",
    "# display(input_box)"
   ]
  },
  {
   "cell_type": "code",
   "execution_count": 4,
   "metadata": {},
   "outputs": [],
   "source": [
    "# Create Loads Tab\n",
    "\n",
    "nx_label = widgets.Label(value='Nx')\n",
    "ny_label = widgets.Label(value='Ny')\n",
    "nxy_label = widgets.Label(value='Nxy')\n",
    "nx = widgets.FloatText(value=0.0)\n",
    "ny = widgets.FloatText(value=0.0)\n",
    "nxy = widgets.FloatText(value=0.0)\n",
    "loads = widgets.HBox([widgets.VBox([nx_label, ny_label, nxy_label]), \n",
    "                     widgets.VBox([nx, ny, nxy])])\n",
    "# display(loads)"
   ]
  },
  {
   "cell_type": "code",
   "execution_count": 5,
   "metadata": {},
   "outputs": [
    {
     "data": {
      "application/vnd.jupyter.widget-view+json": {
       "model_id": "3212ec9f18b94cd3b5f2265d65ed08bb",
       "version_major": 2,
       "version_minor": 0
      },
      "text/plain": [
       "Tab(children=(VBox(children=(HBox(children=(BoundedIntText(value=10, min=1), Button(description='Symmetric', s…"
      ]
     },
     "metadata": {},
     "output_type": "display_data"
    }
   ],
   "source": [
    "# Put it together \n",
    "\n",
    "tab_contents = [input_box, loads]\n",
    "tab = widgets.Tab()\n",
    "tab.children = tab_contents\n",
    "for i, name in enumerate(('Laminate Input', 'Loads')):\n",
    "    tab.set_title(i, name)\n",
    "display(tab)"
   ]
  },
  {
   "cell_type": "code",
   "execution_count": null,
   "metadata": {},
   "outputs": [],
   "source": []
  }
 ],
 "metadata": {
  "kernelspec": {
   "display_name": "Python 3",
   "language": "python",
   "name": "python3"
  },
  "language_info": {
   "codemirror_mode": {
    "name": "ipython",
    "version": 3
   },
   "file_extension": ".py",
   "mimetype": "text/x-python",
   "name": "python",
   "nbconvert_exporter": "python",
   "pygments_lexer": "ipython3",
   "version": "3.8.1"
  }
 },
 "nbformat": 4,
 "nbformat_minor": 4
}
