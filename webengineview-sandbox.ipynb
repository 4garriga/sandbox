{
 "cells": [
  {
   "cell_type": "code",
   "execution_count": 2,
   "metadata": {},
   "outputs": [],
   "source": [
    "from PyQt5.QtWebEngineWidgets import QWebEngineView\n",
    "from PyQt5.QtWidgets import (\n",
    "    QApplication\n",
    ")\n",
    "import sys"
   ]
  },
  {
   "cell_type": "code",
   "execution_count": 3,
   "metadata": {},
   "outputs": [],
   "source": [
    "qapp = QApplication.instance()\n",
    "if qapp is None:\n",
    "    qapp = QApplication([])"
   ]
  },
  {
   "cell_type": "code",
   "execution_count": 4,
   "metadata": {},
   "outputs": [],
   "source": [
    "from os.path import exists\n",
    "assert exists('w3-stylesheet.css')"
   ]
  },
  {
   "cell_type": "code",
   "execution_count": 90,
   "metadata": {},
   "outputs": [],
   "source": [
    "class Web(QWebEngineView):\n",
    "\n",
    "    def __init__(self):\n",
    "        super().__init__()\n",
    "    \n",
    "        html = \"\"\"\n",
    "        <!DOCTYPE html>\n",
    "        <html>\n",
    "          <head>\n",
    "            <meta name=\"viewport\" content=\"width=device-width, initial-scale=1\">\n",
    "            <style>\n",
    "              body {\n",
    "                margin: 0;\n",
    "                background-color: #f1f1f1;\n",
    "                font-family: Arial, Helvetica, sans-serif;\n",
    "              }\n",
    "\n",
    "              #navbar, #sidenav {\n",
    "                background-color: #5084BC;\n",
    "                position: fixed;\n",
    "                top: 0;\n",
    "                width: 100%;\n",
    "                display: block;\n",
    "                transition: top 0.3s;\n",
    "              }\n",
    "\n",
    "              #navbar a, #sidenav li {\n",
    "                display: inline-block;\n",
    "                color: #f2f2f2;\n",
    "                text-align: center;\n",
    "                padding: 8px 16px;\n",
    "                text-decoration: none;\n",
    "                font-size: 16px;\n",
    "              }\n",
    "              \n",
    "              #sidenav a {\n",
    "                color: #000;\n",
    "              }\n",
    "\n",
    "              .body::-webkit-scrollbar {\n",
    "                display: none;\n",
    "              }\n",
    "\n",
    "              .button {\n",
    "                display: inline-block;\n",
    "                padding: 8px 16px;\n",
    "                overflow: hidden;\n",
    "                text-decoration: none;\n",
    "                color: #000;\n",
    "                background-color: inherit;\n",
    "                cursor: pointer;\n",
    "                white-space: nowrap;\n",
    "                outline: none;\n",
    "                border: none;\n",
    "              }\n",
    "              \n",
    "              .button:hover {\n",
    "                background-color: #ddd;\n",
    "                color: black;\n",
    "              }\n",
    "              \n",
    "            </style>\n",
    "          </head>\n",
    "          <body class=\"body\">\n",
    "\n",
    "            <div id=\"sidenav\" style=\"display:none;\">\n",
    "              <button id=\"hide\" class=\"button\" onclick=\"hide_sidenav()\">&times;</button><br>\n",
    "              <li href=\"#1\">Section 1.0</li>\n",
    "              <li href=\"#2\">Section 2.0</li>\n",
    "              <li href=\"#3\">Section 3.0</li>\n",
    "            </div>\n",
    "            \n",
    "            <div id=\"main\">\n",
    "              \n",
    "              <div id=\"navbar\">\n",
    "                  <button id=\"show\" class=\"button\" onclick=\"show_sidenav()\">&#9776;</button>\n",
    "                  <a>Title</a>\n",
    "                  <a>Other</a>\n",
    "              </div>\n",
    "              \n",
    "              <div id=\"report\" style=\"margin-top: 50px;\">\n",
    "                <h3 id=\"1\">Section 1.0</h3>\n",
    "                    <table background-color:\"#fff\";>\n",
    "                      <tr><th>Header</th></tr>\n",
    "                    </table>\n",
    "              </div>\n",
    "            </div>\n",
    "\n",
    "            <script>\n",
    "              var prevScrollpos = window.pageYOffset;\n",
    "              window.onscroll = function() {\n",
    "                var currentScrollPos = window.pageYOffset;\n",
    "                if (prevScrollpos > currentScrollPos) {\n",
    "                  document.getElementById(\"navbar\").style.top = \"0\";\n",
    "                } else {\n",
    "                  document.getElementById(\"navbar\").style.top = \"-50px\";\n",
    "                }\n",
    "                prevScrollpos = currentScrollPos;\n",
    "              }\n",
    "              \n",
    "              function show_sidenav() {\n",
    "                document.getElementById(\"main\").style.marginLeft = \"25%\";\n",
    "                document.getElementById(\"sidenav\").style.width = \"25%\";\n",
    "                document.getElementById(\"sidenav\").style.display = \"inline-block\";\n",
    "                document.getElementById(\"show\").style.display = \"none\";\n",
    "              }\n",
    "\n",
    "              function hide_sidenav() {\n",
    "                document.getElementById(\"main\").style.marginLeft = \"0%\";\n",
    "                document.getElementById(\"sidenav\").style.display = \"none\";\n",
    "                document.getElementById(\"show\").style.display = \"inline-block\";\n",
    "              }\n",
    "            </script>\n",
    "\n",
    "          </body>\n",
    "        </html>\n",
    "        \"\"\"\n",
    "\n",
    "        self.setHtml(html)"
   ]
  },
  {
   "cell_type": "code",
   "execution_count": 91,
   "metadata": {},
   "outputs": [
    {
     "ename": "SystemExit",
     "evalue": "0",
     "output_type": "error",
     "traceback": [
      "An exception has occurred, use %tb to see the full traceback.\n",
      "\u001b[1;31mSystemExit\u001b[0m\u001b[1;31m:\u001b[0m 0\n"
     ]
    }
   ],
   "source": [
    "web = Web()\n",
    "web.show()\n",
    "sys.exit(qapp.exec())\n"
   ]
  },
  {
   "cell_type": "code",
   "execution_count": null,
   "metadata": {},
   "outputs": [],
   "source": []
  }
 ],
 "metadata": {
  "interpreter": {
   "hash": "89a5e833da0657467d7f843a7c75f165d0bc705c123657d5f0a893a9e5bf620f"
  },
  "kernelspec": {
   "display_name": "Python 3.9.6 64-bit ('py39': venv)",
   "language": "python",
   "name": "python3"
  },
  "language_info": {
   "codemirror_mode": {
    "name": "ipython",
    "version": 3
   },
   "file_extension": ".py",
   "mimetype": "text/x-python",
   "name": "python",
   "nbconvert_exporter": "python",
   "pygments_lexer": "ipython3",
   "version": "3.9.6"
  },
  "orig_nbformat": 4
 },
 "nbformat": 4,
 "nbformat_minor": 2
}
